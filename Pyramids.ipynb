{
 "cells": [
  {
   "cell_type": "code",
   "execution_count": 25,
   "id": "previous-corner",
   "metadata": {},
   "outputs": [
    {
     "name": "stdout",
     "output_type": "stream",
     "text": [
      "         X\n",
      "        XXX\n",
      "       XXXXX\n",
      "      XXXXXXX\n",
      "     XXXXXXXXX\n",
      "    XXXXXXXXXXX\n",
      "   XXXXXXXXXXXXX\n",
      "  XXXXXXXXXXXXXXX\n",
      " XXXXXXXXXXXXXXXXX\n"
     ]
    }
   ],
   "source": [
    "for i in range(1,10):\n",
    "   print (\" \"*(10-i)+\"X\"*i+\"X\"*(i-1))"
   ]
  },
  {
   "cell_type": "code",
   "execution_count": 26,
   "id": "higher-official",
   "metadata": {},
   "outputs": [
    {
     "name": "stdout",
     "output_type": "stream",
     "text": [
      "         X\n",
      "        XXX\n",
      "       XXXXX\n",
      "      XXXXXXX\n",
      "     XXXXXXXXX\n",
      "    XXXXXXXXXXX\n"
     ]
    }
   ],
   "source": [
    "for i in range(1,7):\n",
    "   print (\" \"*(10-i)+\"X\"*i+\"X\"*(i-1))"
   ]
  },
  {
   "cell_type": "code",
   "execution_count": 27,
   "id": "following-speaking",
   "metadata": {},
   "outputs": [
    {
     "name": "stdout",
     "output_type": "stream",
     "text": [
      "        xxx\n",
      "       xxxxx\n",
      "      xxxxxxx\n",
      "     xxxxxxxxx\n",
      "    xxxxxxxxxxx\n"
     ]
    }
   ],
   "source": [
    "for i in range(2,7):\n",
    "    print (\" \"*(10-i)+\"x\"*i+\"x\"*(i-1)) \n",
    "    "
   ]
  },
  {
   "cell_type": "code",
   "execution_count": 28,
   "id": "warming-programming",
   "metadata": {},
   "outputs": [
    {
     "name": "stdout",
     "output_type": "stream",
     "text": [
      "       XXXXX\n",
      "      XXXXXXX\n",
      "     XXXXXXXXX\n",
      "    XXXXXXXXXXX\n",
      "   XXXXXXXXXXXXX\n",
      "  XXXXXXXXXXXXXXX\n"
     ]
    }
   ],
   "source": [
    "for i in range(3,9):\n",
    "   print (\" \"*(10-i)+\"X\"*i+\"X\"*(i-1))"
   ]
  },
  {
   "cell_type": "code",
   "execution_count": null,
   "id": "aggressive-berlin",
   "metadata": {},
   "outputs": [],
   "source": []
  }
 ],
 "metadata": {},
 "nbformat": 4,
 "nbformat_minor": 5
}
